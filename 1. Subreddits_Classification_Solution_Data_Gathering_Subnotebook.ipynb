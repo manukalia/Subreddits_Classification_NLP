{
 "cells": [
  {
   "cell_type": "markdown",
   "metadata": {},
   "source": [
    "<img src=\"http://imgur.com/1ZcRyrc.png\" style=\"float: left; margin: 20px; height: 55px\">  \n",
    "\n",
    "<b> <font size='5'>  \n",
    "PROJECT THREE: &nbsp; Sub-reddit Post Classification<br> </font>  \n",
    "\n",
    "<font size='4'>Data Gathering Sub-Notebook </font> </b>\n",
    "\n",
    "<font size='3'>  \n",
    "&nbsp; &nbsp; &nbsp; &nbsp; &nbsp; &nbsp; &nbsp; &nbsp; &nbsp; &nbsp; Manu Kalia Project Submission<br>\n",
    "&nbsp; &nbsp; &nbsp; &nbsp; &nbsp; &nbsp; &nbsp; &nbsp; &nbsp; &nbsp; DSI-7-SF<br>\n",
    "&nbsp; &nbsp; &nbsp; &nbsp; &nbsp; &nbsp; &nbsp; &nbsp; &nbsp; &nbsp; 08-Apr-2019<br>\n",
    "</font>\n",
    "\n",
    "---\n"
   ]
  },
  {
   "cell_type": "markdown",
   "metadata": {
    "toc": true
   },
   "source": [
    "<h1>Table of Contents<span class=\"tocSkip\"></span></h1>\n",
    "<div class=\"toc\"><ul class=\"toc-item\"><li><span><a href=\"#PLEASE-NOTE\" data-toc-modified-id=\"PLEASE-NOTE-1\"><span class=\"toc-item-num\">1&nbsp;&nbsp;</span>PLEASE NOTE</a></span></li><li><span><a href=\"#Begin-with-importing-required-modules:\" data-toc-modified-id=\"Begin-with-importing-required-modules:-2\"><span class=\"toc-item-num\">2&nbsp;&nbsp;</span>Begin with importing required modules:</a></span></li><li><span><a href=\"#Define-a-Function-to-Get-the-Maximum-allowed-Number-of-Sub-reddit-Posts\" data-toc-modified-id=\"Define-a-Function-to-Get-the-Maximum-allowed-Number-of-Sub-reddit-Posts-3\"><span class=\"toc-item-num\">3&nbsp;&nbsp;</span>Define a Function to Get the Maximum-allowed Number of Sub-reddit Posts</a></span></li><li><span><a href=\"#Use-the-Function-Defined-Above-to-Get-Posts-From-Two-Pairs-of-Very-Related-Sub-reddits\" data-toc-modified-id=\"Use-the-Function-Defined-Above-to-Get-Posts-From-Two-Pairs-of-Very-Related-Sub-reddits-4\"><span class=\"toc-item-num\">4&nbsp;&nbsp;</span>Use the Function Defined Above to Get Posts From Two Pairs of Very Related Sub-reddits</a></span></li></ul></div>"
   ]
  },
  {
   "cell_type": "markdown",
   "metadata": {},
   "source": [
    "---\n",
    "\n",
    "### PLEASE NOTE  \n",
    "<br/>\n",
    "<font size='3'>\n",
    "This \"data gathering\" sub-notebook is separated from the main solution notebook to keep from hitting the reddit.com API multiple times as the main solution notebook cells are run during creation and debug.  Also, .csv files containing the downloaded sub-reddit posts need not be over-written for the same reasons.\n",
    "\n",
    "</font>"
   ]
  },
  {
   "cell_type": "markdown",
   "metadata": {},
   "source": [
    "\n",
    "### Begin with importing required modules:"
   ]
  },
  {
   "cell_type": "code",
   "execution_count": 1,
   "metadata": {
    "code_folding": []
   },
   "outputs": [],
   "source": [
    "# module imports cell\n",
    "\n",
    "import requests\n",
    "import pandas as pd\n",
    "import time"
   ]
  },
  {
   "cell_type": "markdown",
   "metadata": {},
   "source": [
    "---\n",
    "\n",
    "###  Define a Function to Get the Maximum-allowed Number of Sub-reddit Posts"
   ]
  },
  {
   "cell_type": "code",
   "execution_count": 18,
   "metadata": {},
   "outputs": [],
   "source": [
    "# function to get 1,000 posts from any sub-reddit\n",
    "\n",
    "def get1000posts(subreddit):\n",
    "    \n",
    "    header = {'user-agent': f'mk {subreddit} bot'}\n",
    "    url    = f'https://www.reddit.com/r/{subreddit}.json'\n",
    "    after  = None\n",
    "    param = {}\n",
    "    posts  = []\n",
    "\n",
    "    for i in range (40):\n",
    "        print(i,\" \", end='')\n",
    "        if after==None: param={}\n",
    "        else: param = {'after': after}\n",
    "\n",
    "        res    = requests.get(\n",
    "                            url     = url,\n",
    "                            headers = header,\n",
    "                            params  = param\n",
    "                            )\n",
    "        if res.status_code == 200:\n",
    "            the_json = res.json()\n",
    "            posts.extend(the_json['data']['children'])\n",
    "            after = the_json['data']['after']\n",
    "        else:\n",
    "            print(res.status_code)\n",
    "            print(url)\n",
    "            break\n",
    "        time.sleep(2)\n",
    "\n",
    "\n",
    "    # check if we got 1,000 unique posts\"\n",
    "\n",
    "    print(f\"\\n\\nUnique posts: {len(set([p['data']['name'] for p in posts]))}\")\n",
    "    print(f\"Total posts: {len([p['data']['name'] for p in posts])}\")\n",
    "    \n",
    "    \n",
    "    # put into pandas dataframes and write to .csv files\n",
    "    \n",
    "    df_titles   = pd.DataFrame([p['data']['title'] for p in posts], columns=['title'])\n",
    "    df_selftext = pd.DataFrame([p['data']['selftext'] for p in posts], columns=['selftext'])\n",
    "    df          = pd.concat([df_titles, df_selftext],ignore_index=False, axis=1)\n",
    "    df['post']  = [df.title[j] + \" \" + df.selftext[j] for j in df.index]\n",
    "    df.to_csv(f'./data/{subreddit}_posts.csv', index=False)\n",
    "    \n",
    "    return df"
   ]
  },
  {
   "cell_type": "markdown",
   "metadata": {},
   "source": [
    "---\n",
    "\n",
    "### Use the Function Defined Above to Get Posts From Two Pairs of Very Related Sub-reddits"
   ]
  },
  {
   "cell_type": "code",
   "execution_count": 15,
   "metadata": {},
   "outputs": [
    {
     "name": "stdout",
     "output_type": "stream",
     "text": [
      "0  1  2  3  4  5  6  7  8  9  10  11  12  13  14  15  16  17  18  19  20  21  22  23  24  25  26  27  28  29  30  31  32  33  34  35  36  37  38  39  \n",
      "Unique posts: 791\n",
      "Total posts: 991\n"
     ]
    }
   ],
   "source": [
    "scifi_posts = get1000posts('scifi')"
   ]
  },
  {
   "cell_type": "code",
   "execution_count": 17,
   "metadata": {},
   "outputs": [
    {
     "data": {
      "text/plain": [
       "(991, 3)"
      ]
     },
     "execution_count": 17,
     "metadata": {},
     "output_type": "execute_result"
    }
   ],
   "source": [
    "scifi_posts.shape"
   ]
  },
  {
   "cell_type": "code",
   "execution_count": 19,
   "metadata": {},
   "outputs": [
    {
     "name": "stdout",
     "output_type": "stream",
     "text": [
      "0  1  2  3  4  5  6  7  8  9  10  11  12  13  14  15  16  17  18  19  20  21  22  23  24  25  26  27  28  29  30  31  32  33  34  35  36  37  38  39  \n",
      "\n",
      "Unique posts: 760\n",
      "Total posts: 987\n"
     ]
    },
    {
     "data": {
      "text/plain": [
       "(987, 3)"
      ]
     },
     "execution_count": 19,
     "metadata": {},
     "output_type": "execute_result"
    }
   ],
   "source": [
    "starwars_posts = get1000posts('starwars')\n",
    "starwars_posts.shape"
   ]
  },
  {
   "cell_type": "code",
   "execution_count": 20,
   "metadata": {},
   "outputs": [
    {
     "name": "stdout",
     "output_type": "stream",
     "text": [
      "0  1  2  3  4  5  6  7  8  9  10  11  12  13  14  15  16  17  18  19  20  21  22  23  24  25  26  27  28  29  30  31  32  33  34  35  36  37  38  39  \n",
      "\n",
      "Unique posts: 713\n",
      "Total posts: 990\n"
     ]
    },
    {
     "data": {
      "text/plain": [
       "(990, 3)"
      ]
     },
     "execution_count": 20,
     "metadata": {},
     "output_type": "execute_result"
    }
   ],
   "source": [
    "physics_posts = get1000posts('physics')\n",
    "physics_posts.shape"
   ]
  },
  {
   "cell_type": "code",
   "execution_count": 21,
   "metadata": {},
   "outputs": [
    {
     "name": "stdout",
     "output_type": "stream",
     "text": [
      "0  1  2  3  4  5  6  7  8  9  10  11  12  13  14  15  16  17  18  19  20  21  22  23  24  25  26  27  28  29  30  31  32  33  34  35  36  37  38  39  \n",
      "\n",
      "Unique posts: 509\n",
      "Total posts: 984\n"
     ]
    },
    {
     "data": {
      "text/plain": [
       "(984, 3)"
      ]
     },
     "execution_count": 21,
     "metadata": {},
     "output_type": "execute_result"
    }
   ],
   "source": [
    "astronomy_posts = get1000posts('astronomy')\n",
    "astronomy_posts.shape"
   ]
  },
  {
   "cell_type": "markdown",
   "metadata": {},
   "source": [
    "<br/>[back to top](#Table-of-Contents)"
   ]
  }
 ],
 "metadata": {
  "kernelspec": {
   "display_name": "Python 3",
   "language": "python",
   "name": "python3"
  },
  "language_info": {
   "codemirror_mode": {
    "name": "ipython",
    "version": 3
   },
   "file_extension": ".py",
   "mimetype": "text/x-python",
   "name": "python",
   "nbconvert_exporter": "python",
   "pygments_lexer": "ipython3",
   "version": "3.6.8"
  },
  "toc": {
   "base_numbering": 1,
   "nav_menu": {},
   "number_sections": true,
   "sideBar": true,
   "skip_h1_title": true,
   "title_cell": "Table of Contents",
   "title_sidebar": "Contents",
   "toc_cell": true,
   "toc_position": {
    "height": "calc(100% - 180px)",
    "left": "10px",
    "top": "150px",
    "width": "211px"
   },
   "toc_section_display": true,
   "toc_window_display": true
  },
  "varInspector": {
   "cols": {
    "lenName": 16,
    "lenType": 16,
    "lenVar": 40
   },
   "kernels_config": {
    "python": {
     "delete_cmd_postfix": "",
     "delete_cmd_prefix": "del ",
     "library": "var_list.py",
     "varRefreshCmd": "print(var_dic_list())"
    },
    "r": {
     "delete_cmd_postfix": ") ",
     "delete_cmd_prefix": "rm(",
     "library": "var_list.r",
     "varRefreshCmd": "cat(var_dic_list()) "
    }
   },
   "types_to_exclude": [
    "module",
    "function",
    "builtin_function_or_method",
    "instance",
    "_Feature"
   ],
   "window_display": false
  }
 },
 "nbformat": 4,
 "nbformat_minor": 2
}
